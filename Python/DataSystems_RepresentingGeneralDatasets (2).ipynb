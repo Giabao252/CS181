{
  "nbformat": 4,
  "nbformat_minor": 0,
  "metadata": {
    "colab": {
      "provenance": [],
      "collapsed_sections": []
    },
    "kernelspec": {
      "name": "python3",
      "display_name": "Python 3"
    },
    "language_info": {
      "name": "python"
    }
  },
  "cells": [
    {
      "cell_type": "markdown",
      "source": [
        "## Example datset: Top baby names\n",
        "\n",
        "Variable|Data type|Independent/dependent|Description\n",
        "-|-|-|-\n",
        "`year`|Integer|Independent|The year of a data record between 1880 and 2018\n",
        "`sex`|String|Independent|Female versus Male, represented as the string \"Female\" or \"Male\"\n",
        "`name`|String|Dependent|Top name applied for in the given year for the given sex\n",
        "`count`|Integer|Dependent|Count of applicants for the top name in the given year for the given sex\n",
        "\n",
        "Example dataset is in canvas.\n"
      ],
      "metadata": {
        "id": "TTfcrUBCJxEG"
      }
    },
    {
      "cell_type": "code",
      "execution_count": null,
      "metadata": {
        "colab": {
          "base_uri": "https://localhost:8080/",
          "height": 54
        },
        "id": "pM-CGSihJZn4",
        "outputId": "8d457bb9-3902-43f0-e3cd-bccc75f792ec"
      },
      "outputs": [
        {
          "output_type": "execute_result",
          "data": {
            "text/plain": [
              "'Year, Sex, Name, Count\\n2018, Male, Liam, 19837\\n2018, Female, Emma, 18688\\n2017, Male, Liam, 18798\\n2017, Female, Emma, 19800\\n2016, Male, Noah, 19117\\n2016, Female, Emma, 19496'"
            ],
            "application/vnd.google.colaboratory.intrinsic+json": {
              "type": "string"
            }
          },
          "metadata": {},
          "execution_count": 17
        }
      ],
      "source": [
        "with open('top_names.txt', 'r') as fi:\n",
        "  raw_data = fi.read()\n",
        "\n",
        "raw_data"
      ]
    },
    {
      "cell_type": "markdown",
      "source": [
        "## Dictionary of Lists (DoLs)\n",
        "\n",
        "Variables as the keys and similar data as list of values\n",
        "\n",
        "`top_names['year'] = [2018, 2018, ..., 2016]`"
      ],
      "metadata": {
        "id": "SuTQnxT4Lf9T"
      }
    },
    {
      "cell_type": "code",
      "source": [
        "top_names = dict()\n",
        "\n",
        "top_names['Year'] = [2018, 2018, 2017, 2017, 2016, 2016]\n",
        "\n",
        "top_names"
      ],
      "metadata": {
        "id": "C6AM0vPYLm1c",
        "colab": {
          "base_uri": "https://localhost:8080/"
        },
        "outputId": "7e0f60cf-a76b-4d67-cde5-9f91f30473c6"
      },
      "execution_count": null,
      "outputs": [
        {
          "output_type": "execute_result",
          "data": {
            "text/plain": [
              "{'Year': [2018, 2018, 2017, 2017, 2016, 2016]}"
            ]
          },
          "metadata": {},
          "execution_count": 18
        }
      ]
    },
    {
      "cell_type": "markdown",
      "source": [
        "## List of Lists (LoLs)\n",
        "\n",
        "represent the data as collection of rows. Each row is a list and all rows are in a list.\n",
        "\n",
        "`top_names[0] = [2018, 'Male', 'Liam', 19837]`"
      ],
      "metadata": {
        "id": "toB7EXvcLnK9"
      }
    },
    {
      "cell_type": "code",
      "source": [
        "top_names = list()\n",
        "\n",
        "top_names[0] = [2018, 'Male', 'Liam', 19837]\n",
        "top_names[1] = [2018, 'Female', 'Emma', 18688]\n",
        "top_names[2] = [2017, 'Male', 'Liam', 18798]\n",
        "top_names[3] = [2017, 'Female', 'Emma', 19800]\n",
        "top_names[4] = [2016, 'Male', 'Noah', 19117]\n",
        "top_names[5] = [2016, 'Female', 'Emma', 19496]\n",
        "\n",
        "top_names\n"
      ],
      "metadata": {
        "id": "Qlw02J_cLriN",
        "colab": {
          "base_uri": "https://localhost:8080/",
          "height": 241
        },
        "outputId": "3375840b-c843-44c2-9537-a57ed6ffc180"
      },
      "execution_count": null,
      "outputs": [
        {
          "output_type": "error",
          "ename": "IndexError",
          "evalue": "ignored",
          "traceback": [
            "\u001b[0;31m---------------------------------------------------------------------------\u001b[0m",
            "\u001b[0;31mIndexError\u001b[0m                                Traceback (most recent call last)",
            "\u001b[0;32m<ipython-input-19-d165a0ac2b97>\u001b[0m in \u001b[0;36m<module>\u001b[0;34m\u001b[0m\n\u001b[1;32m      1\u001b[0m \u001b[0mtop_names\u001b[0m \u001b[0;34m=\u001b[0m \u001b[0mlist\u001b[0m\u001b[0;34m(\u001b[0m\u001b[0;34m)\u001b[0m\u001b[0;34m\u001b[0m\u001b[0;34m\u001b[0m\u001b[0m\n\u001b[1;32m      2\u001b[0m \u001b[0;34m\u001b[0m\u001b[0m\n\u001b[0;32m----> 3\u001b[0;31m \u001b[0mtop_names\u001b[0m\u001b[0;34m[\u001b[0m\u001b[0;36m0\u001b[0m\u001b[0;34m]\u001b[0m \u001b[0;34m=\u001b[0m \u001b[0;34m[\u001b[0m\u001b[0;36m2018\u001b[0m\u001b[0;34m,\u001b[0m \u001b[0;34m'Male'\u001b[0m\u001b[0;34m,\u001b[0m \u001b[0;34m'Liam'\u001b[0m\u001b[0;34m,\u001b[0m \u001b[0;36m19837\u001b[0m\u001b[0;34m]\u001b[0m\u001b[0;34m\u001b[0m\u001b[0;34m\u001b[0m\u001b[0m\n\u001b[0m\u001b[1;32m      4\u001b[0m \u001b[0mtop_names\u001b[0m\u001b[0;34m[\u001b[0m\u001b[0;36m1\u001b[0m\u001b[0;34m]\u001b[0m \u001b[0;34m=\u001b[0m \u001b[0;34m[\u001b[0m\u001b[0;36m2018\u001b[0m\u001b[0;34m,\u001b[0m \u001b[0;34m'Female'\u001b[0m\u001b[0;34m,\u001b[0m \u001b[0;34m'Emma'\u001b[0m\u001b[0;34m,\u001b[0m \u001b[0;36m18688\u001b[0m\u001b[0;34m]\u001b[0m\u001b[0;34m\u001b[0m\u001b[0;34m\u001b[0m\u001b[0m\n\u001b[1;32m      5\u001b[0m \u001b[0mtop_names\u001b[0m\u001b[0;34m[\u001b[0m\u001b[0;36m2\u001b[0m\u001b[0;34m]\u001b[0m \u001b[0;34m=\u001b[0m \u001b[0;34m[\u001b[0m\u001b[0;36m2017\u001b[0m\u001b[0;34m,\u001b[0m \u001b[0;34m'Male'\u001b[0m\u001b[0;34m,\u001b[0m \u001b[0;34m'Liam'\u001b[0m\u001b[0;34m,\u001b[0m \u001b[0;36m18798\u001b[0m\u001b[0;34m]\u001b[0m\u001b[0;34m\u001b[0m\u001b[0;34m\u001b[0m\u001b[0m\n",
            "\u001b[0;31mIndexError\u001b[0m: list assignment index out of range"
          ]
        }
      ]
    },
    {
      "cell_type": "markdown",
      "source": [
        "## List of Dictionaries (LoDs)\n",
        "\n",
        "still representing data as collection of rows. But this time each row is a dictioanry of variable(key):data(value) pair. All these dictionary is in a list\n",
        "\n",
        "`top_names[0] = {'year':2018, 'sex':'Male', 'name':'Liam', 'count':19837}`"
      ],
      "metadata": {
        "id": "8X6puGOYLruM"
      }
    },
    {
      "cell_type": "code",
      "source": [
        "top_names = list()\n",
        "\n",
        "##TODO - WRITE CODE TO POPULATE top_names FROM raw_data ##\n",
        "\n",
        "top_names"
      ],
      "metadata": {
        "id": "dzSd_vNhLzfc"
      },
      "execution_count": null,
      "outputs": []
    },
    {
      "cell_type": "markdown",
      "source": [
        "## How about Dictionary of Dictionaries (DoDs) ??? \n",
        "\n",
        "Why not !? But there's no benefit of this (at least at this point and with this dataset)\n",
        "\n",
        "`top_names [0] = {'year':2018, 'sex':'Male', 'name':'Liam', 'count':19837}`\n",
        "\n"
      ],
      "metadata": {
        "id": "qkuoQREcTdof"
      }
    },
    {
      "cell_type": "markdown",
      "source": [
        "## Book Reading \n",
        "3.4"
      ],
      "metadata": {
        "id": "aATqbixdUR1m"
      }
    },
    {
      "cell_type": "markdown",
      "source": [
        "# Practices\n",
        "\n"
      ],
      "metadata": {
        "id": "bmK0n0TSyEs1"
      }
    },
    {
      "cell_type": "markdown",
      "source": [
        "## Q1: Write a function\n",
        "\n",
        "`convertDoL2LoL(D)`\n",
        "\n",
        "that converts from a dictionary of lists representation in D to the equivalent list of lists representation, returning both the list of column names, as given by the keys of D, as well as a list of lists storing the data in the values of D. Note that, because we do not know the order of mappings in a dictionary, the order of fields in the column names, and the order of fields in the rows of the data set may not be apparent. But as long as all rows as well as the list of column names is consistent, the conversion is valid.\n"
      ],
      "metadata": {
        "id": "fJFAasC80wPT"
      }
    },
    {
      "cell_type": "code",
      "source": [
        "\n",
        "topnamesDoL = {'year': [2018, 2018, 2017, 2017, 2016, 2016],\n",
        "          'sex': ['Male', 'Female', 'Male',\n",
        "                    'Female', 'Male', 'Female'],\n",
        "          'name': ['Liam', 'Emma', 'Liam', 'Emma',\n",
        "                     'Noah', 'Emma'],\n",
        "          'count': [19837, 18688, 18798, 19800, 19117, 19496]}\n",
        "\n",
        "topnamesLoL = [[2018, 'Male', 'Liam', 19837],\n",
        "               [2018, 'Female', 'Emma', 18688],\n",
        "               [2017, 'Male', 'Liam', 18798],\n",
        "               [2017, 'Female', 'Emma', 19800],\n",
        "               [2016, 'Male', 'Noah', 19117],\n",
        "               [2016, 'Female', 'Emma', 19496]]\n",
        "columns = ['year', 'sex', 'name', 'count']"
      ],
      "metadata": {
        "id": "Tla36kVmzIeK"
      },
      "execution_count": null,
      "outputs": []
    },
    {
      "cell_type": "code",
      "source": [
        "\n",
        "def convertDoL2LoL(D):\n",
        "  topnamesLoL = list()\n",
        "  columns = list()\n",
        "  dict_keys = list(D.keys())\n",
        "  for i in dict_keys:\n",
        "    columns.append(i)\n",
        "\n",
        "  for j in range(len(D[k[0]])):\n",
        "    for k in range(len(dict_keys)):\n",
        "      topnamesLoL[j].append(D[dict_keys[k]][j])\n",
        "  print(columns)\n",
        "  print(topnamesLoL)\n",
        "\n"
      ],
      "metadata": {
        "id": "WX7DmqKy03Hq"
      },
      "execution_count": null,
      "outputs": []
    },
    {
      "cell_type": "code",
      "source": [
        "# Testing cell\n",
        "\n",
        "convertDoL2LoL(topnamesDoL)"
      ],
      "metadata": {
        "id": "fyH6er8d1c7M"
      },
      "execution_count": null,
      "outputs": []
    },
    {
      "cell_type": "markdown",
      "source": [
        "## Q (2): Write a function\n",
        "\n",
        "`convertLoL2DoL(columns, data)`\n",
        "\n",
        "that converts from a list of lists to a dictionary of lists D, which you return. Here, columns is a list of column names (which will become the keys in D), and data is a list of row lists.\n"
      ],
      "metadata": {
        "id": "V2sXShZ904f_"
      }
    },
    {
      "cell_type": "code",
      "source": [
        "columns = ['year', 'sex', 'name', 'count']\n",
        "def convertLoL2DoL(column, data):\n",
        "  topnamesDoL = dict()\n",
        "  for i in range(n):\n",
        "    for j in data:\n",
        "      if column[i] in topnamesDoL.keys():\n",
        "        topnamesDoL[column[i]].append(j[i])\n",
        "      else:\n",
        "        topnamesDoL[column[i]] = [j[i]]\n",
        "  return topnamesDoL\n",
        "\n",
        "convertLoL2DoL(columns, topnamesLoL)\n"
      ],
      "metadata": {
        "id": "O6Wd65zc1Ece"
      },
      "execution_count": null,
      "outputs": []
    },
    {
      "cell_type": "code",
      "source": [],
      "metadata": {
        "id": "c1bckIe_1eIL"
      },
      "execution_count": null,
      "outputs": []
    }
  ]
}