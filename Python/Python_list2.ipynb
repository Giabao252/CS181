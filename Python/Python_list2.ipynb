{
  "cells": [
    {
      "cell_type": "code",
      "execution_count": 2,
      "metadata": {
        "id": "b39T2lAhbLNv"
      },
      "outputs": [],
      "source": [
        "list = [1, 2, 10, 12, 6, 8, 19, 29, 47]"
      ]
    },
    {
      "cell_type": "code",
      "execution_count": 3,
      "metadata": {
        "colab": {
          "base_uri": "https://localhost:8080/"
        },
        "id": "H9Ps6SWdbzKn",
        "outputId": "8c0747e9-9e3e-47d3-ee2b-9c0ffcdd3abc"
      },
      "outputs": [
        {
          "name": "stdout",
          "output_type": "stream",
          "text": [
            "[1, 5, 10, 12, 6, 8, 19, 29, 47]\n"
          ]
        }
      ],
      "source": [
        "list[1] = 5\n",
        "print(list)"
      ]
    },
    {
      "cell_type": "code",
      "execution_count": 4,
      "metadata": {
        "colab": {
          "base_uri": "https://localhost:8080/"
        },
        "id": "ZaMpTnDZcATo",
        "outputId": "79d28bba-cf1c-45fa-f92d-466193f5cfbd"
      },
      "outputs": [
        {
          "name": "stdout",
          "output_type": "stream",
          "text": [
            "[1, 5, 10, 12, 'a', 'b', 19, 29, 47]\n"
          ]
        }
      ],
      "source": [
        "list[4:6] = [\"a\", \"b\"]\n",
        "print(list)"
      ]
    },
    {
      "cell_type": "code",
      "execution_count": 5,
      "metadata": {
        "colab": {
          "base_uri": "https://localhost:8080/"
        },
        "id": "I-SuDlvgcNsB",
        "outputId": "c2bd262d-0c15-4840-b83c-21f433ae2056"
      },
      "outputs": [
        {
          "name": "stdout",
          "output_type": "stream",
          "text": [
            "[12, 'a', 'b', 19, 29, 47]\n"
          ]
        }
      ],
      "source": [
        "del list[0:3]\n",
        "print(list)"
      ]
    },
    {
      "cell_type": "code",
      "execution_count": 6,
      "metadata": {
        "colab": {
          "base_uri": "https://localhost:8080/"
        },
        "id": "46USUfY0cVE9",
        "outputId": "16375e56-fad9-451e-b7cb-aba9bb29eb5a"
      },
      "outputs": [
        {
          "name": "stdout",
          "output_type": "stream",
          "text": [
            "[1, 'a', 'abc', 19, 29, 47]\n"
          ]
        }
      ],
      "source": [
        "list[0:3:2] = [1,\"abc\"]\n",
        "print(list)"
      ]
    },
    {
      "cell_type": "code",
      "execution_count": 7,
      "metadata": {
        "colab": {
          "base_uri": "https://localhost:8080/"
        },
        "id": "qkk2yaJMekf6",
        "outputId": "c0280346-0aa5-4f2a-846b-a35d1173ca31"
      },
      "outputs": [
        {
          "name": "stdout",
          "output_type": "stream",
          "text": [
            "['a', 'abc', 29, 47]\n"
          ]
        }
      ],
      "source": [
        "del list[0:4:3]\n",
        "print(list)"
      ]
    },
    {
      "cell_type": "code",
      "execution_count": 8,
      "metadata": {
        "colab": {
          "base_uri": "https://localhost:8080/"
        },
        "id": "5hr4iRm_fsd8",
        "outputId": "ae79c416-c0c7-4f13-a06f-73367cc0d6fe"
      },
      "outputs": [
        {
          "data": {
            "text/plain": [
              "['a', 'abc', 29, 47, 109]"
            ]
          },
          "execution_count": 8,
          "metadata": {},
          "output_type": "execute_result"
        }
      ],
      "source": [
        "list.append(109)\n",
        "list"
      ]
    },
    {
      "cell_type": "code",
      "execution_count": 9,
      "metadata": {
        "colab": {
          "base_uri": "https://localhost:8080/"
        },
        "id": "o5IGN21xgFd6",
        "outputId": "7ab21d89-3676-4673-c478-20156655c42a"
      },
      "outputs": [
        {
          "data": {
            "text/plain": [
              "[]"
            ]
          },
          "execution_count": 9,
          "metadata": {},
          "output_type": "execute_result"
        }
      ],
      "source": [
        "list.clear()\n",
        "list"
      ]
    },
    {
      "cell_type": "code",
      "execution_count": 10,
      "metadata": {
        "colab": {
          "base_uri": "https://localhost:8080/"
        },
        "id": "JpQ-7LoGgJys",
        "outputId": "1c358ae3-c738-4d57-cbab-b8570c233986"
      },
      "outputs": [
        {
          "data": {
            "text/plain": [
              "[1, 2, 10, 12, 6, 8, 19, 29, 47]"
            ]
          },
          "execution_count": 10,
          "metadata": {},
          "output_type": "execute_result"
        }
      ],
      "source": [
        "list = [1, 2, 10, 12, 6, 8, 19, 29, 47]\n",
        "list.copy()"
      ]
    },
    {
      "cell_type": "code",
      "execution_count": 11,
      "metadata": {
        "colab": {
          "base_uri": "https://localhost:8080/"
        },
        "id": "HgOMcfwfgS2q",
        "outputId": "e7b0e1c0-81a7-4da8-c20a-538a82872c86"
      },
      "outputs": [
        {
          "data": {
            "text/plain": [
              "[1, 2, 6, 8, 10, 12, 19, 29, 47]"
            ]
          },
          "execution_count": 11,
          "metadata": {},
          "output_type": "execute_result"
        }
      ],
      "source": [
        "list.sort()\n",
        "list"
      ]
    },
    {
      "cell_type": "code",
      "execution_count": 12,
      "metadata": {
        "colab": {
          "base_uri": "https://localhost:8080/"
        },
        "id": "fmnnetqAgW3e",
        "outputId": "2dd1ec2c-5edd-4fd7-d684-c3e98aa38a89"
      },
      "outputs": [
        {
          "name": "stdout",
          "output_type": "stream",
          "text": [
            "[1, 2, 6, 8, 10, 12, 19, 29, 47, 100, 'abcd']\n"
          ]
        }
      ],
      "source": [
        "list.extend([100, \"abcd\"])\n",
        "print(list)"
      ]
    },
    {
      "cell_type": "code",
      "execution_count": 13,
      "metadata": {
        "id": "wcyK4qUXgX5p"
      },
      "outputs": [],
      "source": [
        "list *= 2"
      ]
    },
    {
      "cell_type": "code",
      "execution_count": 14,
      "metadata": {
        "colab": {
          "base_uri": "https://localhost:8080/"
        },
        "id": "godIZH65hS0D",
        "outputId": "bf36a106-32dc-430e-8635-3e0e71efce90"
      },
      "outputs": [
        {
          "data": {
            "text/plain": [
              "8"
            ]
          },
          "execution_count": 14,
          "metadata": {},
          "output_type": "execute_result"
        }
      ],
      "source": [
        "list.pop()\n",
        "list.pop(3)"
      ]
    },
    {
      "cell_type": "code",
      "execution_count": 15,
      "metadata": {
        "id": "jW3zjFazhZFv"
      },
      "outputs": [],
      "source": [
        "list.remove('abcd')"
      ]
    },
    {
      "cell_type": "code",
      "execution_count": 16,
      "metadata": {
        "colab": {
          "base_uri": "https://localhost:8080/"
        },
        "id": "OV6ySdxdhhN7",
        "outputId": "89d3f5ce-214b-4759-b9d6-0fd10beaaaf7"
      },
      "outputs": [
        {
          "name": "stdout",
          "output_type": "stream",
          "text": [
            "[100, 47, 29, 19, 12, 10, 8, 6, 2, 1, 100, 47, 29, 19, 12, 10, 6, 2, 1]\n"
          ]
        }
      ],
      "source": [
        "list.reverse()\n",
        "print(list)"
      ]
    }
  ],
  "metadata": {
    "colab": {
      "provenance": []
    },
    "kernelspec": {
      "display_name": "Python 3.9.6 64-bit",
      "language": "python",
      "name": "python3"
    },
    "language_info": {
      "name": "python",
      "version": "3.9.6"
    },
    "vscode": {
      "interpreter": {
        "hash": "92ef23ef122beb376ad633bf03bcc270d72907aabeead6f7f2c57efd9d224c19"
      }
    }
  },
  "nbformat": 4,
  "nbformat_minor": 0
}
