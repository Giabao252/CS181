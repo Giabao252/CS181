{
  "nbformat": 4,
  "nbformat_minor": 0,
  "metadata": {
    "colab": {
      "provenance": [],
      "collapsed_sections": []
    },
    "kernelspec": {
      "name": "python3",
      "display_name": "Python 3"
    },
    "language_info": {
      "name": "python"
    }
  },
  "cells": [
    {
      "cell_type": "markdown",
      "source": [
        "Functions in Python\n",
        "\n",
        "A function is a block of organized code that is used to perform a single, specific task. Functins help us to modularize our code and improves reusability of code\n",
        "\n",
        "In python, functions are treated as objects as well. (Just like int, bool, float, strings, lists, dictionaries,etc)\n",
        "\n",
        "Function objects are creatd by function "
      ],
      "metadata": {
        "id": "DtwOyCgYK4J3"
      }
    },
    {
      "cell_type": "code",
      "source": [
        "#a function that writess the Fibonacci series to an arbitrary boundary \n",
        "def fibonacci(num):\n",
        "  \"\"\"returns a Fibonacci series upto number\"\"\"\n",
        "  list1 = list()\n",
        "  a, b = 0, 1\n",
        "  while a < num:\n",
        "    list1.append(a)\n",
        "    a,b = b, a+b #assigning two variables to the corresponding values\n",
        "  return list1\n",
        "\n",
        "fibonacci(5)"
      ],
      "metadata": {
        "colab": {
          "base_uri": "https://localhost:8080/"
        },
        "id": "cNHUxqTLLcVy",
        "outputId": "feb422a8-742a-4084-c7e9-084e93987cdd"
      },
      "execution_count": null,
      "outputs": [
        {
          "output_type": "execute_result",
          "data": {
            "text/plain": [
              "[0, 1, 1, 2, 3]"
            ]
          },
          "metadata": {},
          "execution_count": 19
        }
      ]
    },
    {
      "cell_type": "code",
      "source": [
        "def celsius_fahrenheit(degree):\n",
        "  fahrenheit = (degree*9 // 5) + 32 # // will return integers otherwise float numbers\n",
        "  return fahrenheit\n",
        "\n",
        "celsius_fahrenheit(25)"
      ],
      "metadata": {
        "colab": {
          "base_uri": "https://localhost:8080/"
        },
        "id": "KmrgV9qEPI7V",
        "outputId": "0a072624-6b55-4b8d-911e-e82f1bc94316"
      },
      "execution_count": null,
      "outputs": [
        {
          "output_type": "execute_result",
          "data": {
            "text/plain": [
              "77"
            ]
          },
          "metadata": {},
          "execution_count": 20
        }
      ]
    },
    {
      "cell_type": "markdown",
      "source": [
        "Write a function \n",
        "\n",
        "    which_is_bigger(f1, f2, n)\n",
        "\n",
        "    which computes f1(n) and f2(n) and returns whichever function results in , the larger value when an integer n is passed as a parameter. In case of a tie, \n",
        "    return f1. Test with f1(x) defined as x * x * x and f2(x) defined as 4 * x * x - 4. Test with at least 3 different n ranging from 2 to 100"
      ],
      "metadata": {
        "id": "y8gbHAQ38UN-"
      }
    },
    {
      "cell_type": "code",
      "source": [
        "#Problem 1\n",
        "def f1(x):\n",
        "  return x*x*x\n",
        "\n",
        "def f2(x):\n",
        "  return 4*x*x-4\n",
        "\n",
        "def which_is_bigger(f1, f2, n):\n",
        "  if f1(n) >= f2(n): \n",
        "    return f1(n)\n",
        "  else: \n",
        "    return f2(n)\n",
        "\n",
        "which_is_bigger(f1, f2, 29)"
      ],
      "metadata": {
        "id": "8DK4lTrfToi6",
        "colab": {
          "base_uri": "https://localhost:8080/"
        },
        "outputId": "85b3735f-6dfb-4b05-91ca-646660b439d5"
      },
      "execution_count": 10,
      "outputs": [
        {
          "output_type": "execute_result",
          "data": {
            "text/plain": [
              "24389"
            ]
          },
          "metadata": {},
          "execution_count": 10
        }
      ]
    },
    {
      "cell_type": "code",
      "source": [
        "which_is_bigger(f1, f2, 67) "
      ],
      "metadata": {
        "colab": {
          "base_uri": "https://localhost:8080/"
        },
        "id": "hHQQ_wJj6xFU",
        "outputId": "78809440-d83c-479b-a487-b4af9a20be1a"
      },
      "execution_count": 11,
      "outputs": [
        {
          "output_type": "execute_result",
          "data": {
            "text/plain": [
              "300763"
            ]
          },
          "metadata": {},
          "execution_count": 11
        }
      ]
    },
    {
      "cell_type": "code",
      "source": [
        "which_is_bigger(f1, f2, 89) "
      ],
      "metadata": {
        "colab": {
          "base_uri": "https://localhost:8080/"
        },
        "id": "3zMef1e_6ySl",
        "outputId": "ae070646-6b94-47f2-e405-cd74d8cc4234"
      },
      "execution_count": 12,
      "outputs": [
        {
          "output_type": "execute_result",
          "data": {
            "text/plain": [
              "704969"
            ]
          },
          "metadata": {},
          "execution_count": 12
        }
      ]
    },
    {
      "cell_type": "code",
      "source": [
        "#Problem 2: Write a lambda expression that takes three parameters, squares them and adds the result.\n",
        "lambda_function = lambda a, b, c : a**2 + b**2 + c**2\n",
        "lambda_function(1,2,3)"
      ],
      "metadata": {
        "colab": {
          "base_uri": "https://localhost:8080/"
        },
        "id": "xMAnMzqV7Ib8",
        "outputId": "3dc5e8c8-c0ac-4a68-b575-efc0b4202f4f"
      },
      "execution_count": 13,
      "outputs": [
        {
          "output_type": "execute_result",
          "data": {
            "text/plain": [
              "14"
            ]
          },
          "metadata": {},
          "execution_count": 13
        }
      ]
    }
  ]
}